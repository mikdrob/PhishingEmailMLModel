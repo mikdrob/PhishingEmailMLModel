{
 "cells": [
  {
   "cell_type": "code",
   "execution_count": 1,
   "id": "e36a8f57",
   "metadata": {
    "scrolled": true
   },
   "outputs": [
    {
     "name": "stdout",
     "output_type": "stream",
     "text": [
      "smt else\n"
     ]
    }
   ],
   "source": [
    "print(\"smt else\")"
   ]
  },
  {
   "cell_type": "markdown",
   "id": "5f43389b",
   "metadata": {},
   "source": [
    "### Instruction"
   ]
  },
  {
   "cell_type": "code",
   "execution_count": 2,
   "id": "e5e9ad7c",
   "metadata": {},
   "outputs": [
    {
     "name": "stdout",
     "output_type": "stream",
     "text": [
      "smt else\n"
     ]
    }
   ],
   "source": [
    "print(\"smt else\")"
   ]
  },
  {
   "cell_type": "code",
   "execution_count": 3,
   "id": "3ee07589",
   "metadata": {},
   "outputs": [
    {
     "name": "stdout",
     "output_type": "stream",
     "text": [
      "smt else\n"
     ]
    }
   ],
   "source": [
    "print(\"smt else\")"
   ]
  },
  {
   "cell_type": "code",
   "execution_count": 4,
   "id": "3cf4cc02",
   "metadata": {},
   "outputs": [
    {
     "name": "stdout",
     "output_type": "stream",
     "text": [
      "smt else\n"
     ]
    }
   ],
   "source": [
    "print(\"smt else\")"
   ]
  },
  {
   "cell_type": "code",
   "execution_count": 5,
   "id": "1f8a2b0b",
   "metadata": {},
   "outputs": [
    {
     "name": "stdout",
     "output_type": "stream",
     "text": [
      "smt else\n"
     ]
    }
   ],
   "source": [
    "print(\"smt else\")"
   ]
  },
  {
   "cell_type": "code",
   "execution_count": 6,
   "id": "dfdbca42",
   "metadata": {},
   "outputs": [
    {
     "name": "stdout",
     "output_type": "stream",
     "text": [
      "smt else\n"
     ]
    }
   ],
   "source": [
    "print(\"smt else\")"
   ]
  }
 ],
 "metadata": {
  "kernelspec": {
   "display_name": "Python 3 (ipykernel)",
   "language": "python",
   "name": "python3"
  },
  "language_info": {
   "codemirror_mode": {
    "name": "ipython",
    "version": 3
   },
   "file_extension": ".py",
   "mimetype": "text/x-python",
   "name": "python",
   "nbconvert_exporter": "python",
   "pygments_lexer": "ipython3",
   "version": "3.11.2"
  }
 },
 "nbformat": 4,
 "nbformat_minor": 5
}
