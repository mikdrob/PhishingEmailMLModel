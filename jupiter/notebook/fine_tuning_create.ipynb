{
 "cells": [
  {
   "cell_type": "markdown",
   "source": [
    "%env OPENAI_API_KEY={api_key}"
   ],
   "metadata": {
    "collapsed": false
   }
  },
  {
   "cell_type": "code",
   "execution_count": 3,
   "outputs": [
    {
     "name": "stdout",
     "output_type": "stream",
     "text": [
      "Upload progress: 100%|█████████████████████| 1.30M/1.30M [00:00<00:00, 769Mit/s]\r\n",
      "Uploaded file from ../dataset/input/emails_set_prepared_train.jsonl: file-mtGzI3h8YycMc49JMxJRb7B3\r\n",
      "Upload progress: 100%|███████████████████████| 624k/624k [00:00<00:00, 525Mit/s]\r\n",
      "Uploaded file from ../dataset/input/emails_set_prepared_valid.jsonl: file-LoS6EpfDt0Lk1AhPJOsEYf09\r\n",
      "Created fine-tune: ft-HmjjVjfQHtSomZT5TO9461VS\r\n",
      "Streaming events until fine-tuning is complete...\r\n",
      "\r\n",
      "(Ctrl-C will interrupt the stream, but not cancel the fine-tune)\r\n",
      "[2023-04-23 15:04:58] Created fine-tune: ft-HmjjVjfQHtSomZT5TO9461VS\r\n",
      "[2023-04-23 15:05:24] Fine-tune costs $0.57\r\n",
      "[2023-04-23 15:05:24] Fine-tune enqueued. Queue number: 0\r\n",
      "[2023-04-23 15:05:29] Fine-tune started\r\n",
      "\r\n"
     ]
    }
   ],
   "source": [
    "!openai api fine_tunes.create -t \"../dataset/input/emails_set_prepared_train.jsonl\" -v \"../dataset/input/emails_set_prepared_valid.jsonl\" --compute_classification_metrics --classification_positive_class \" 1\" -m ada --suffix \"binary email classification v2\""
   ],
   "metadata": {
    "collapsed": false,
    "ExecuteTime": {
     "start_time": "2023-04-23T15:04:51.693145Z",
     "end_time": "2023-04-23T15:05:59.603841Z"
    }
   }
  }
 ],
 "metadata": {
  "kernelspec": {
   "display_name": "Python 3",
   "language": "python",
   "name": "python3"
  },
  "language_info": {
   "codemirror_mode": {
    "name": "ipython",
    "version": 2
   },
   "file_extension": ".py",
   "mimetype": "text/x-python",
   "name": "python",
   "nbconvert_exporter": "python",
   "pygments_lexer": "ipython2",
   "version": "2.7.6"
  }
 },
 "nbformat": 4,
 "nbformat_minor": 0
}
