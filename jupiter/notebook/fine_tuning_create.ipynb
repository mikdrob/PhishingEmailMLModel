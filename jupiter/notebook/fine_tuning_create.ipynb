{
 "cells": [
  {
   "cell_type": "code",
   "execution_count": 9,
   "outputs": [],
   "source": [
    "import os"
   ],
   "metadata": {
    "collapsed": false
   }
  },
  {
   "cell_type": "markdown",
   "source": [
    "%env OPENAI_API_KEY={api_key}"
   ],
   "metadata": {
    "collapsed": false
   }
  },
  {
   "cell_type": "code",
   "execution_count": 10,
   "outputs": [
    {
     "name": "stdout",
     "output_type": "stream",
     "text": [
      "Analyzing...\r\n",
      "\r\n",
      "- Your file contains 3000 prompt-completion pairs\r\n",
      "- Based on your data it seems like you're trying to fine-tune a model for classification\r\n",
      "- For classification, we recommend you try one of the faster and cheaper models, such as `ada`\r\n",
      "- For classification, you can estimate the expected model performance by keeping a held out dataset, which is not used for training\r\n",
      "- There are 11 examples that are very long. These are rows: [49, 310, 627, 636, 992, 999, 1766, 2170, 2463, 2640, 2799]\r\n",
      "For conditional generation, and for classification the examples shouldn't be longer than 2048 tokens.\r\n",
      "- Your data does not contain a common separator at the end of your prompts. Having a separator string appended to the end of the prompt makes it clearer to the fine-tuned model where the completion should begin. See https://platform.openai.com/docs/guides/fine-tuning/preparing-your-dataset for more detail and examples. If you intend to do open-ended generation, then you should leave the prompts empty\r\n",
      "- The completion should start with a whitespace character (` `). This tends to produce better results due to the tokenization we use. See https://platform.openai.com/docs/guides/fine-tuning/preparing-your-dataset for more details\r\n",
      "\r\n",
      "Based on the analysis we will perform the following actions:\r\n",
      "- [Recommended] Remove 11 long examples [Y/n]: Y\r\n",
      "- [Recommended] Add a suffix separator `\\n\\n###\\n\\n` to all prompts [Y/n]: Y\r\n",
      "- [Recommended] Add a whitespace character to the beginning of the completion [Y/n]: Y\r\n",
      "- [Recommended] Would you like to split into training and validation set? [Y/n]: Y\r\n",
      "\r\n",
      "\r\n",
      "Your data will be written to a new JSONL file. Proceed [Y/n]: Y\r\n",
      "\r\n",
      "Wrote modified files to `../dataset/input/emails_set_prepared_train.jsonl` and `../dataset/input/emails_set_prepared_valid.jsonl`\r\n",
      "Feel free to take a look!\r\n",
      "\r\n",
      "Now use that file when fine-tuning:\r\n",
      "> openai api fine_tunes.create -t \"../dataset/input/emails_set_prepared_train.jsonl\" -v \"../dataset/input/emails_set_prepared_valid.jsonl\" --compute_classification_metrics --classification_positive_class \" 0\"\r\n",
      "\r\n",
      "After you’ve fine-tuned a model, remember that your prompt has to end with the indicator string `\\n\\n###\\n\\n` for the model to start generating completions, rather than continuing with the prompt.\r\n",
      "Once your model starts training, it'll approximately take 1.23 hours to train a `curie` model, and less for `ada` and `babbage`. Queue will approximately take half an hour per job ahead of you.\r\n"
     ]
    }
   ],
   "source": [
    "!openai tools fine_tunes.prepare_data -f '../dataset/input/emails_set_train.jsonl' -q"
   ],
   "metadata": {
    "collapsed": false
   }
  },
  {
   "cell_type": "code",
   "execution_count": 11,
   "outputs": [
    {
     "name": "stdout",
     "output_type": "stream",
     "text": [
      "Upload progress: 100%|████████████████████| 2.46M/2.46M [00:00<00:00, 1.61Git/s]\r\n",
      "Uploaded file from ../dataset/input/emails_set_prepared_train.jsonl: file-AYEl83i2alKrm5xdyH4Qy1ha\r\n",
      "Upload progress: 100%|███████████████████████| 609k/609k [00:00<00:00, 485Mit/s]\r\n",
      "Uploaded file from ../dataset/input/emails_set_prepared_valid.jsonl: file-AnNx7YZGWYXSWwXMPlQt92ZR\r\n",
      "Created fine-tune: ft-3Y9OM0lDYq3nFKuAQ7cjwKgW\r\n",
      "Streaming events until fine-tuning is complete...\r\n",
      "\r\n",
      "(Ctrl-C will interrupt the stream, but not cancel the fine-tune)\r\n",
      "[2023-04-23 00:48:19] Created fine-tune: ft-3Y9OM0lDYq3nFKuAQ7cjwKgW\r\n",
      "[2023-04-23 00:48:50] Fine-tune costs $1.08\r\n",
      "[2023-04-23 00:48:50] Fine-tune enqueued. Queue number: 0\r\n",
      "[2023-04-23 00:48:53] Fine-tune started\r\n",
      "\r\n"
     ]
    }
   ],
   "source": [
    "!openai api fine_tunes.create -t \"../dataset/input/emails_set_prepared_train.jsonl\" -v \"../dataset/input/emails_set_prepared_valid.jsonl\" --compute_classification_metrics --classification_positive_class \" 1\" -m ada --suffix \"binary email classification\""
   ],
   "metadata": {
    "collapsed": false
   }
  },
  {
   "cell_type": "code",
   "execution_count": 12,
   "outputs": [],
   "source": [
    "prepared_valid_jsonl = '../dataset/input/emails_set_train_prepared_train.jsonl'\n",
    "prepared_train_jsonl = '../dataset/input/emails_set_train_prepared_valid.jsonl'\n",
    "\n",
    "if os.path.exists(prepared_valid_jsonl):\n",
    "    os.remove(prepared_valid_jsonl)\n",
    "    os.remove(prepared_train_jsonl)"
   ],
   "metadata": {
    "collapsed": false
   }
  }
 ],
 "metadata": {
  "kernelspec": {
   "display_name": "Python 3",
   "language": "python",
   "name": "python3"
  },
  "language_info": {
   "codemirror_mode": {
    "name": "ipython",
    "version": 2
   },
   "file_extension": ".py",
   "mimetype": "text/x-python",
   "name": "python",
   "nbconvert_exporter": "python",
   "pygments_lexer": "ipython2",
   "version": "2.7.6"
  }
 },
 "nbformat": 4,
 "nbformat_minor": 0
}
