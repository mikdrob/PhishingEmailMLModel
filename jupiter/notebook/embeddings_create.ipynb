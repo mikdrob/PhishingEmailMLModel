{
 "cells": [
  {
   "cell_type": "code",
   "execution_count": 1,
   "metadata": {
    "collapsed": true
   },
   "outputs": [],
   "source": [
    "import pandas as pd\n",
    "import tiktoken\n",
    "from openai.embeddings_utils import get_embedding"
   ]
  },
  {
   "cell_type": "code",
   "execution_count": 2,
   "outputs": [],
   "source": [
    "# Define constants for the embedding model and encoding to use\n",
    "MODEL_NAME = \"text-embedding-ada-002\"\n",
    "ENCODING_NAME = \"cl100k_base\"\n",
    "\n",
    "# Define the maximum number of tokens allowed in a text sample\n",
    "MAX_TOKENS = 8000\n",
    "\n",
    "# Define the input and output file paths\n",
    "INPUT_FILE_PATH = \"../dataset/emails_set.csv\"\n",
    "OUTPUT_FILE_PATH = \"../dataset/embeddings.csv\""
   ],
   "metadata": {
    "collapsed": false
   }
  },
  {
   "cell_type": "code",
   "execution_count": null,
   "outputs": [],
   "source": [
    "# Load the input data from the CSV file and select the required columns\n",
    "df = pd.read_csv(INPUT_FILE_PATH, index_col=0, usecols=[\"text\", \"is_phishing\"]).dropna()\n",
    "\n",
    "# Get the encoding for the specified encoding type\n",
    "encoding = tiktoken.get_encoding(ENCODING_NAME)\n",
    "\n",
    "# Add a column to the DataFrame to store the number of tokens for each text sample\n",
    "df[\"n_tokens\"] = df.text.apply(lambda x: len(encoding.encode(x)))\n",
    "\n",
    "# Filter out any samples that have more tokens than the specified maximum\n",
    "df = df[df.n_tokens <= MAX_TOKENS]"
   ],
   "metadata": {
    "collapsed": false,
    "pycharm": {
     "is_executing": true
    }
   }
  },
  {
   "cell_type": "code",
   "execution_count": null,
   "outputs": [],
   "source": [
    "# Add a column to the DataFrame to store the text embeddings for each text sample\n",
    "df[\"embedding\"] = df.text.apply(lambda x: get_embedding(x, engine=MODEL_NAME))\n",
    "\n",
    "# Save the DataFrame with the text embeddings to a CSV file\n",
    "df.to_csv(OUTPUT_FILE_PATH)"
   ],
   "metadata": {
    "collapsed": false,
    "pycharm": {
     "is_executing": true
    }
   }
  }
 ],
 "metadata": {
  "kernelspec": {
   "display_name": "Python 3",
   "language": "python",
   "name": "python3"
  },
  "language_info": {
   "codemirror_mode": {
    "name": "ipython",
    "version": 2
   },
   "file_extension": ".py",
   "mimetype": "text/x-python",
   "name": "python",
   "nbconvert_exporter": "python",
   "pygments_lexer": "ipython2",
   "version": "2.7.6"
  }
 },
 "nbformat": 4,
 "nbformat_minor": 0
}
