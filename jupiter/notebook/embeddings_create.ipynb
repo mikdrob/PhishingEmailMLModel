{
 "cells": [
  {
   "cell_type": "code",
   "execution_count": 8,
   "metadata": {
    "collapsed": true,
    "ExecuteTime": {
     "start_time": "2023-04-23T15:20:32.136900Z",
     "end_time": "2023-04-23T15:20:32.140664Z"
    }
   },
   "outputs": [],
   "source": [
    "import pandas as pd\n",
    "from openai.embeddings_utils import get_embedding"
   ]
  },
  {
   "cell_type": "code",
   "execution_count": 10,
   "outputs": [],
   "source": [
    "# Define constants for the embedding model and encoding to use\n",
    "MODEL_NAME = \"text-embedding-ada-002\"\n",
    "\n",
    "# Define the input and output file paths\n",
    "INPUT_PATH_TRAIN = \"../dataset/input/emails_set_train.jsonl\"\n",
    "INPUT_PATH_TEST = \"../dataset/input/emails_set_test.jsonl\"\n",
    "\n",
    "OUTPUT_TRAIN_PATH = \"../dataset/input/embeddings_train.csv\"\n",
    "OUTPUT_TEST_PATH = \"../dataset/input/embeddings_test.csv\""
   ],
   "metadata": {
    "collapsed": false,
    "ExecuteTime": {
     "start_time": "2023-04-23T15:20:32.147181Z",
     "end_time": "2023-04-23T15:20:32.150025Z"
    }
   }
  },
  {
   "cell_type": "code",
   "execution_count": 11,
   "outputs": [],
   "source": [
    "# Load the input data from the CSV file and select the required columns\n",
    "df_train = pd.read_json(INPUT_PATH_TRAIN, lines=True)\n",
    "df_test = pd.read_json(INPUT_PATH_TEST, lines=True)"
   ],
   "metadata": {
    "collapsed": false,
    "ExecuteTime": {
     "start_time": "2023-04-23T15:20:32.152055Z",
     "end_time": "2023-04-23T15:20:32.176225Z"
    }
   }
  },
  {
   "cell_type": "code",
   "execution_count": null,
   "outputs": [],
   "source": [
    "# Add a column to the DataFrame to store the text embeddings for each text sample\n",
    "df_train[\"embedding\"] = df_train.text.apply(lambda x: get_embedding(x, engine=MODEL_NAME))\n",
    "df_test[\"embedding\"] = df_test.text.apply(lambda x: get_embedding(x, engine=MODEL_NAME))\n",
    "\n",
    "# Save the DataFrame with the text embeddings to a CSV file\n",
    "df_train.to_csv(OUTPUT_TRAIN_PATH)\n",
    "df_test.to_csv(OUTPUT_TEST_PATH)"
   ],
   "metadata": {
    "collapsed": false,
    "ExecuteTime": {
     "start_time": "2023-04-23T15:23:15.895967Z",
     "end_time": "2023-04-23T15:55:39.073198Z"
    }
   }
  }
 ],
 "metadata": {
  "kernelspec": {
   "display_name": "Python 3",
   "language": "python",
   "name": "python3"
  },
  "language_info": {
   "codemirror_mode": {
    "name": "ipython",
    "version": 2
   },
   "file_extension": ".py",
   "mimetype": "text/x-python",
   "name": "python",
   "nbconvert_exporter": "python",
   "pygments_lexer": "ipython2",
   "version": "2.7.6"
  }
 },
 "nbformat": 4,
 "nbformat_minor": 0
}
