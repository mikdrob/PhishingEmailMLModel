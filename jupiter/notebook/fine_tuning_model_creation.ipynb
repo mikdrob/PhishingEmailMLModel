{
 "cells": [
  {
   "cell_type": "code",
   "execution_count": 8,
   "outputs": [],
   "source": [
    "import os"
   ],
   "metadata": {
    "collapsed": false
   }
  },
  {
   "cell_type": "code",
   "execution_count": null,
   "outputs": [],
   "source": [
    "%env OPENAI_API_KEY={api_key}"
   ],
   "metadata": {
    "collapsed": false,
    "pycharm": {
     "is_executing": true
    }
   }
  },
  {
   "cell_type": "code",
   "execution_count": 10,
   "outputs": [
    {
     "name": "stdout",
     "output_type": "stream",
     "text": [
      "Analyzing...\r\n",
      "\r\n",
      "- Your file contains 227 prompt-completion pairs\r\n",
      "- Based on your data it seems like you're trying to fine-tune a model for classification\r\n",
      "- For classification, we recommend you try one of the faster and cheaper models, such as `ada`\r\n",
      "- For classification, you can estimate the expected model performance by keeping a held out dataset, which is not used for training\r\n",
      "- All prompts end with suffix `\\n\\n###\\n\\n`\r\n",
      "- The completion should start with a whitespace character (` `). This tends to produce better results due to the tokenization we use. See https://platform.openai.com/docs/guides/fine-tuning/preparing-your-dataset for more details\r\n",
      "\r\n",
      "Based on the analysis we will perform the following actions:\r\n",
      "- [Recommended] Add a whitespace character to the beginning of the completion [Y/n]: Y\r\n",
      "- [Recommended] Would you like to split into training and validation set? [Y/n]: Y\r\n",
      "\r\n",
      "\r\n",
      "Your data will be written to a new JSONL file. Proceed [Y/n]: Y\r\n",
      "\r\n",
      "Wrote modified files to `../dataset/input/emails_set_train_prepared_train.jsonl` and `../dataset/input/emails_set_train_prepared_valid.jsonl`\r\n",
      "Feel free to take a look!\r\n",
      "\r\n",
      "Now use that file when fine-tuning:\r\n",
      "> openai api fine_tunes.create -t \"../dataset/input/emails_set_train_prepared_train.jsonl\" -v \"../dataset/input/emails_set_train_prepared_valid.jsonl\" --compute_classification_metrics --classification_positive_class \" 0\"\r\n",
      "\r\n",
      "After you’ve fine-tuned a model, remember that your prompt has to end with the indicator string `\\n\\n###\\n\\n` for the model to start generating completions, rather than continuing with the prompt.\r\n",
      "Once your model starts training, it'll approximately take 7.78 minutes to train a `curie` model, and less for `ada` and `babbage`. Queue will approximately take half an hour per job ahead of you.\r\n"
     ]
    }
   ],
   "source": [
    "!openai tools fine_tunes.prepare_data -f '../dataset/input/emails_set_train.jsonl' -q"
   ],
   "metadata": {
    "collapsed": false
   }
  },
  {
   "cell_type": "code",
   "execution_count": 11,
   "metadata": {
    "collapsed": true
   },
   "outputs": [
    {
     "name": "stdout",
     "output_type": "stream",
     "text": [
      "Upload progress: 100%|███████████████████████| 170k/170k [00:00<00:00, 116Mit/s]\r\n",
      "Uploaded file from ../dataset/input/emails_set_train_prepared_train.jsonl: file-El0UtfHUr5bkMk0HXv5Wrb4h\r\n",
      "Upload progress: 100%|████████████████████| 43.7k/43.7k [00:00<00:00, 31.7Mit/s]\r\n",
      "Uploaded file from ../dataset/input/emails_set_train_prepared_valid.jsonl: file-qSvJxpxLxbOfq4b8fQ3LBYHR\r\n",
      "Created fine-tune: ft-ZgKF2G2gS4l5ysMLVtWfkPsS\r\n",
      "Streaming events until fine-tuning is complete...\r\n",
      "\r\n",
      "(Ctrl-C will interrupt the stream, but not cancel the fine-tune)\r\n",
      "[2023-04-22 19:31:09] Created fine-tune: ft-ZgKF2G2gS4l5ysMLVtWfkPsS\r\n",
      "[2023-04-22 19:31:19] Fine-tune costs $0.07\r\n",
      "[2023-04-22 19:31:20] Fine-tune enqueued. Queue number: 0\r\n",
      "\r\n"
     ]
    }
   ],
   "source": [
    "!openai api fine_tunes.create -t \"../dataset/input/emails_set_train_prepared_train.jsonl\" -v \"../dataset/input/emails_set_train_prepared_valid.jsonl\" --compute_classification_metrics --classification_positive_class \" 0\" -m ada --suffix \"binary email classification v2\""
   ]
  },
  {
   "cell_type": "code",
   "execution_count": 12,
   "outputs": [],
   "source": [
    "prepared_valid_jsonl = '../dataset/input/emails_set_train_prepared_train.jsonl'\n",
    "prepared_train_jsonl = '../dataset/input/emails_set_train_prepared_valid.jsonl'\n",
    "\n",
    "if os.path.exists(prepared_valid_jsonl):\n",
    "    os.remove(prepared_valid_jsonl)\n",
    "    os.remove(prepared_train_jsonl)"
   ],
   "metadata": {
    "collapsed": false
   }
  }
 ],
 "metadata": {
  "kernelspec": {
   "display_name": "Python 3",
   "language": "python",
   "name": "python3"
  },
  "language_info": {
   "codemirror_mode": {
    "name": "ipython",
    "version": 2
   },
   "file_extension": ".py",
   "mimetype": "text/x-python",
   "name": "python",
   "nbconvert_exporter": "python",
   "pygments_lexer": "ipython2",
   "version": "2.7.6"
  }
 },
 "nbformat": 4,
 "nbformat_minor": 0
}
