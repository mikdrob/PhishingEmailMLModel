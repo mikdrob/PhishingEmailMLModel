{
 "cells": [
  {
   "cell_type": "code",
   "execution_count": 1,
   "metadata": {
    "collapsed": false
   },
   "outputs": [],
   "source": [
    "import os\n",
    "\n",
    "import pandas as pd"
   ]
  },
  {
   "cell_type": "markdown",
   "metadata": {
    "collapsed": false
   },
   "source": [
    "# Dataset preparation for pretrained open ai model"
   ]
  },
  {
   "cell_type": "code",
   "execution_count": 2,
   "metadata": {
    "collapsed": false
   },
   "outputs": [],
   "source": [
    "\n",
    "df = pd.read_csv(\"../dataset/input/raw/emails_set_batch.csv\", index_col=0)\n",
    "df = df[[\"text\", \"is_phishing\"]]\n",
    "df = df.rename(columns={\"text\": \"prompt\", \"is_phishing\": \"completion\"})\n",
    "df = df.dropna()\n",
    "\n",
    "df.to_json(\"../dataset/input/emails_set_batch.jsonl\", orient='records', lines=True)"
   ]
  },
  {
   "cell_type": "code",
   "execution_count": 3,
   "metadata": {
    "collapsed": false
   },
   "outputs": [
    {
     "name": "stdout",
     "output_type": "stream",
     "text": [
      "Analyzing...\r\n",
      "\r\n",
      "- Your file contains 326 prompt-completion pairs\r\n",
      "- Based on your data it seems like you're trying to fine-tune a model for classification\r\n",
      "- For classification, we recommend you try one of the faster and cheaper models, such as `ada`\r\n",
      "- For classification, you can estimate the expected model performance by keeping a held out dataset, which is not used for training\r\n",
      "- There are 1 duplicated prompt-completion sets. These are rows: [140]\r\n",
      "- Your data does not contain a common separator at the end of your prompts. Having a separator string appended to the end of the prompt makes it clearer to the fine-tuned model where the completion should begin. See https://platform.openai.com/docs/guides/fine-tuning/preparing-your-dataset for more detail and examples. If you intend to do open-ended generation, then you should leave the prompts empty\r\n",
      "- The completion should start with a whitespace character (` `). This tends to produce better results due to the tokenization we use. See https://platform.openai.com/docs/guides/fine-tuning/preparing-your-dataset for more details\r\n",
      "\r\n",
      "Based on the analysis we will perform the following actions:\r\n",
      "- [Recommended] Remove 1 duplicate rows [Y/n]: Y\r\n",
      "- [Recommended] Add a suffix separator `\\n\\n###\\n\\n` to all prompts [Y/n]: Y\r\n",
      "/Users/admin/PycharmProjects/pythonProject2/venv/lib/python3.9/site-packages/openai/validators.py:222: SettingWithCopyWarning: \r\n",
      "A value is trying to be set on a copy of a slice from a DataFrame.\r\n",
      "Try using .loc[row_indexer,col_indexer] = value instead\r\n",
      "\r\n",
      "See the caveats in the documentation: https://pandas.pydata.org/pandas-docs/stable/user_guide/indexing.html#returning-a-view-versus-a-copy\r\n",
      "  x[\"prompt\"] += suffix\r\n",
      "- [Recommended] Add a whitespace character to the beginning of the completion [Y/n]: Y\r\n",
      "/Users/admin/PycharmProjects/pythonProject2/venv/lib/python3.9/site-packages/openai/validators.py:421: SettingWithCopyWarning: \r\n",
      "A value is trying to be set on a copy of a slice from a DataFrame.\r\n",
      "Try using .loc[row_indexer,col_indexer] = value instead\r\n",
      "\r\n",
      "See the caveats in the documentation: https://pandas.pydata.org/pandas-docs/stable/user_guide/indexing.html#returning-a-view-versus-a-copy\r\n",
      "  x[\"completion\"] = x[\"completion\"].apply(\r\n",
      "- [Recommended] Would you like to split into training and validation set? [Y/n]: Y\r\n",
      "\r\n",
      "\r\n",
      "Your data will be written to a new JSONL file. Proceed [Y/n]: Y\r\n",
      "\r\n",
      "Wrote modified files to `../dataset/input/emails_set_batch_prepared_train.jsonl` and `../dataset/input/emails_set_batch_prepared_valid.jsonl`\r\n",
      "Feel free to take a look!\r\n",
      "\r\n",
      "Now use that file when fine-tuning:\r\n",
      "> openai api fine_tunes.create -t \"../dataset/input/emails_set_batch_prepared_train.jsonl\" -v \"../dataset/input/emails_set_batch_prepared_valid.jsonl\" --compute_classification_metrics --classification_positive_class \" 0\"\r\n",
      "\r\n",
      "After you’ve fine-tuned a model, remember that your prompt has to end with the indicator string `\\n\\n###\\n\\n` for the model to start generating completions, rather than continuing with the prompt.\r\n",
      "Once your model starts training, it'll approximately take 10.13 minutes to train a `curie` model, and less for `ada` and `babbage`. Queue will approximately take half an hour per job ahead of you.\r\n"
     ]
    }
   ],
   "source": [
    "!openai tools fine_tunes.prepare_data -f '../dataset/input/emails_set_batch.jsonl' -q"
   ]
  },
  {
   "cell_type": "markdown",
   "metadata": {
    "collapsed": false
   },
   "source": [
    "### Merge files made by open ai preparation tool"
   ]
  },
  {
   "cell_type": "code",
   "execution_count": 4,
   "metadata": {
    "collapsed": true
   },
   "outputs": [],
   "source": [
    "# Load preprocessed datasets and combine them together for pretrained model as it does not require any prior training\n",
    "\n",
    "prepared_valid_jsonl = '../dataset/input/emails_set_batch_prepared_valid.jsonl'\n",
    "prepared_train_jsonl = '../dataset/input/emails_set_batch_prepared_train.jsonl'\n",
    "\n",
    "if os.path.exists(prepared_valid_jsonl):\n",
    "    df_first_batch = pd.read_json(prepared_valid_jsonl, lines=True)\n",
    "    df_second_batch = pd.read_json(prepared_train_jsonl, lines=True)\n",
    "    df = pd.concat([df_first_batch, df_second_batch], ignore_index=True)\n",
    "    df.to_json('../dataset/input/emails_set_batch.jsonl', orient='records', lines=True)\n",
    "\n",
    "    os.remove(prepared_valid_jsonl)\n",
    "    os.remove(prepared_train_jsonl)\n"
   ]
  },
  {
   "cell_type": "markdown",
   "metadata": {
    "collapsed": false
   },
   "source": [
    "# Main dataset preparation"
   ]
  },
  {
   "cell_type": "code",
   "execution_count": 5,
   "metadata": {
    "collapsed": false
   },
   "outputs": [],
   "source": [
    "df_mixed = pd.read_csv(\"../dataset/input/raw/emails_set_batch.csv\", index_col=0)\n",
    "df_phishing = pd.read_csv(\"../dataset/input/raw/phishing_emails_formatted.csv\", index_col=False)\n",
    "df_legitimate = pd.read_csv(\"../dataset/input/raw/spam_ham_emails.csv\", index_col=0)\n",
    "\n",
    "df_legitimate[\"is_phishing\"] = 0\n",
    "\n",
    "merged_df = pd.concat([df_mixed, df_phishing, df_legitimate], ignore_index=True)\n",
    "\n",
    "merged_df = merged_df.loc[:, ['text', 'is_phishing']]\n",
    "merged_df = merged_df.drop_duplicates()\n",
    "merged_df = merged_df.sort_values('is_phishing', ascending=False)\n",
    "merged_df = merged_df.head(2000)\n",
    "\n",
    "merged_df = merged_df.sample(frac=1)\n",
    "merged_df.to_csv('../dataset/input/emails_set.csv')\n",
    "\n",
    "merged_df = merged_df.rename(columns={'text': 'prompt', 'is_phishing': 'completion'})\n",
    "merged_df.to_json('../dataset/input/emails_set.jsonl', orient='records', lines=True)"
   ]
  },
  {
   "cell_type": "markdown",
   "metadata": {
    "collapsed": false
   },
   "source": []
  }
 ],
 "metadata": {
  "kernelspec": {
   "display_name": "Python 3",
   "language": "python",
   "name": "python3"
  },
  "language_info": {
   "codemirror_mode": {
    "name": "ipython",
    "version": 2
   },
   "file_extension": ".py",
   "mimetype": "text/x-python",
   "name": "python",
   "nbconvert_exporter": "python",
   "pygments_lexer": "ipython2",
   "version": "2.7.6"
  }
 },
 "nbformat": 4,
 "nbformat_minor": 0
}
