{
 "cells": [
  {
   "cell_type": "code",
   "execution_count": 15,
   "outputs": [],
   "source": [
    "import os\n",
    "\n",
    "import pandas as pd"
   ],
   "metadata": {
    "collapsed": false
   }
  },
  {
   "cell_type": "markdown",
   "source": [
    "# Dataset preparation for pretrained open ai model"
   ],
   "metadata": {
    "collapsed": false
   }
  },
  {
   "cell_type": "code",
   "execution_count": 16,
   "outputs": [],
   "source": [
    "\n",
    "df = pd.read_csv(\"../dataset/input/emails_set.csv\", index_col=0)\n",
    "df = df[[\"text\", \"is_phishing\"]]\n",
    "df = df.rename(columns={\"text\": \"prompt\", \"is_phishing\": \"completion\"})\n",
    "df = df.dropna()\n",
    "\n",
    "df.to_json(\"../dataset/input/emails_set.jsonl\", orient='records', lines=True)"
   ],
   "metadata": {
    "collapsed": false
   }
  },
  {
   "cell_type": "code",
   "execution_count": null,
   "outputs": [],
   "source": [
    "!openai tools fine_tunes.prepare_data -f '../dataset/input/emails_set.jsonl' -q"
   ],
   "metadata": {
    "collapsed": false,
    "pycharm": {
     "is_executing": true
    }
   }
  },
  {
   "cell_type": "markdown",
   "source": [
    "### Merge files made by open ai preparation tool"
   ],
   "metadata": {
    "collapsed": false
   }
  },
  {
   "cell_type": "code",
   "execution_count": 18,
   "metadata": {
    "collapsed": true
   },
   "outputs": [],
   "source": [
    "# Load preprocessed datasets and combine them together for pretrained model as it does not require any prior training\n",
    "\n",
    "prepared_valid_jsonl = '../dataset/input/emails_set_prepared_valid.jsonl'\n",
    "prepared_train_jsonl = '../dataset/input/emails_set_prepared_train.jsonl'\n",
    "\n",
    "if os.path.exists(prepared_valid_jsonl):\n",
    "    df_first_batch = pd.read_json(prepared_valid_jsonl, lines=True)\n",
    "    df_second_batch = pd.read_json(prepared_train_jsonl, lines=True)\n",
    "    df = pd.concat([df_first_batch, df_second_batch], ignore_index=True)\n",
    "    df.to_json('../dataset/input/emails_set_batch.jsonl', orient='records', lines=True)\n",
    "\n",
    "    os.remove(prepared_valid_jsonl)\n",
    "    os.remove(prepared_train_jsonl)\n"
   ]
  },
  {
   "cell_type": "markdown",
   "source": [
    "## Fine-tuned model dataset preparation"
   ],
   "metadata": {
    "collapsed": false
   }
  },
  {
   "cell_type": "markdown",
   "source": [],
   "metadata": {
    "collapsed": false
   }
  },
  {
   "cell_type": "code",
   "execution_count": 19,
   "outputs": [],
   "source": [
    "# Calculate the split index\n",
    "split_idx = int(len(df) * 0.7)\n",
    "\n",
    "# Split into training and testing sets\n",
    "train_data = df.iloc[:split_idx]\n",
    "test_data = df.iloc[split_idx:]\n",
    "\n",
    "train_data.to_json(\"../dataset/input/emails_set_train.jsonl\", orient='records', lines=True)\n",
    "test_data.to_json(\"../dataset/input/emails_set_test.jsonl\", orient='records', lines=True)"
   ],
   "metadata": {
    "collapsed": false
   }
  }
 ],
 "metadata": {
  "kernelspec": {
   "display_name": "Python 3",
   "language": "python",
   "name": "python3"
  },
  "language_info": {
   "codemirror_mode": {
    "name": "ipython",
    "version": 2
   },
   "file_extension": ".py",
   "mimetype": "text/x-python",
   "name": "python",
   "nbconvert_exporter": "python",
   "pygments_lexer": "ipython2",
   "version": "2.7.6"
  }
 },
 "nbformat": 4,
 "nbformat_minor": 0
}
